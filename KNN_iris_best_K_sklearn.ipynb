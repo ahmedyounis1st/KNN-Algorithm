{
  "nbformat": 4,
  "nbformat_minor": 0,
  "metadata": {
    "colab": {
      "name": "KNN_iris_sklearn.ipynb",
      "provenance": []
    },
    "kernelspec": {
      "name": "python3",
      "display_name": "Python 3"
    },
    "language_info": {
      "name": "python"
    },
    "accelerator": "GPU"
  },
  "cells": [
    {
      "cell_type": "code",
      "execution_count": 1,
      "metadata": {
        "id": "vhwh9ItKKiV0"
      },
      "outputs": [],
      "source": [
        "from sklearn.neighbors import KNeighborsClassifier\n",
        "from sklearn.model_selection import train_test_split\n",
        "from sklearn.datasets import load_iris\n",
        "from sklearn.metrics import accuracy_score, confusion_matrix"
      ]
    },
    {
      "cell_type": "code",
      "source": [
        "iris = load_iris()\n",
        "\n",
        "X = iris.data\n",
        "y = iris.target"
      ],
      "metadata": {
        "id": "58Co4Ns1Mryu"
      },
      "execution_count": 2,
      "outputs": []
    },
    {
      "cell_type": "code",
      "source": [
        "X_train, X_test, y_train, y_test = train_test_split(X, y, test_size = 0.2, random_state = 42)"
      ],
      "metadata": {
        "id": "DHY7EWpeM8ZL"
      },
      "execution_count": 3,
      "outputs": []
    },
    {
      "cell_type": "code",
      "source": [
        "X_test.shape"
      ],
      "metadata": {
        "colab": {
          "base_uri": "https://localhost:8080/"
        },
        "id": "BYD4Qh7ENjWS",
        "outputId": "23b03370-f61c-46b8-d18e-7836a7d7fbf1"
      },
      "execution_count": 4,
      "outputs": [
        {
          "output_type": "execute_result",
          "data": {
            "text/plain": [
              "(30, 4)"
            ]
          },
          "metadata": {},
          "execution_count": 4
        }
      ]
    },
    {
      "cell_type": "code",
      "source": [
        "for j in range(10,120,5):\n",
        "  knn = KNeighborsClassifier(n_neighbors=j)\n",
        "  knn.fit(X_train, y_train)\n",
        "  y_pred = knn.predict(X_test)\n",
        "  print(j, accuracy_score(y_test, y_pred).round(4)*100)"
      ],
      "metadata": {
        "colab": {
          "base_uri": "https://localhost:8080/"
        },
        "id": "HICg2nUUNU65",
        "outputId": "bd29ee3e-d0d3-41da-8763-308feea9ca3c"
      },
      "execution_count": 5,
      "outputs": [
        {
          "output_type": "stream",
          "name": "stdout",
          "text": [
            "10 100.0\n",
            "15 100.0\n",
            "20 100.0\n",
            "25 100.0\n",
            "30 100.0\n",
            "35 100.0\n",
            "40 96.67\n",
            "45 100.0\n",
            "50 96.67\n",
            "55 96.67\n",
            "60 96.67\n",
            "65 96.67\n",
            "70 96.67\n",
            "75 93.33\n",
            "80 63.33\n",
            "85 63.33\n",
            "90 53.33\n",
            "95 30.0\n",
            "100 30.0\n",
            "105 30.0\n",
            "110 30.0\n",
            "115 30.0\n"
          ]
        }
      ]
    },
    {
      "cell_type": "code",
      "source": [
        ""
      ],
      "metadata": {
        "id": "2ibYMT7vOA6f"
      },
      "execution_count": 5,
      "outputs": []
    }
  ]
}